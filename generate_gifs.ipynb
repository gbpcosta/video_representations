{
 "cells": [
  {
   "cell_type": "code",
   "execution_count": 1,
   "metadata": {},
   "outputs": [
    {
     "name": "stderr",
     "output_type": "stream",
     "text": [
      "Using TensorFlow backend.\n"
     ]
    }
   ],
   "source": [
    "import os\n",
    "import numpy as np\n",
    "\n",
    "import imageio\n",
    "from bouncingMNIST import BouncingMNISTDataGenerator\n",
    "from utils import check_folder\n",
    "\n",
    "from tqdm import tqdm_notebook"
   ]
  },
  {
   "cell_type": "code",
   "execution_count": 2,
   "metadata": {},
   "outputs": [
    {
     "name": "stderr",
     "output_type": "stream",
     "text": [
      "/home/gbpcosta/anaconda3/envs/tensorflow/lib/python3.6/site-packages/h5py/_hl/dataset.py:313: H5pyDeprecationWarning: dataset.value has been deprecated. Use dataset[()] instead.\n",
      "  \"Use dataset[()] instead.\", H5pyDeprecationWarning)\n"
     ]
    },
    {
     "data": {
      "text/plain": [
       "'gifs/digits_only'"
      ]
     },
     "execution_count": 2,
     "metadata": {},
     "output_type": "execute_result"
    }
   ],
   "source": [
    "training_genetor = \\\n",
    "    BouncingMNISTDataGenerator(\n",
    "                    dataset_size=8000,\n",
    "                    seq_length=160,\n",
    "                    batch_size=32,\n",
    "                    ae=False,\n",
    "                    noise=False,\n",
    "#                     step_length=0.03,\n",
    "                    class_velocity=False,\n",
    "                    hide_digits=False)\n",
    "\n",
    "dirpath = '_gifs/digits_only'\n",
    "\n",
    "check_folder(dirpath)"
   ]
  },
  {
   "cell_type": "code",
   "execution_count": 3,
   "metadata": {},
   "outputs": [],
   "source": [
    "images, labels = training_genetor.get_batch()"
   ]
  },
  {
   "cell_type": "code",
   "execution_count": 4,
   "metadata": {
    "scrolled": true
   },
   "outputs": [
    {
     "data": {
      "application/vnd.jupyter.widget-view+json": {
       "model_id": "773ef8299c7a4c95adecc204de2b6e23",
       "version_major": 2,
       "version_minor": 0
      },
      "text/plain": [
       "HBox(children=(IntProgress(value=0, max=32), HTML(value='')))"
      ]
     },
     "metadata": {},
     "output_type": "display_data"
    },
    {
     "name": "stdout",
     "output_type": "stream",
     "text": [
      "\n"
     ]
    }
   ],
   "source": [
    "# Save them as frames into a gif\n",
    "kargs = { 'duration': 0.1 }\n",
    "for ii in tqdm_notebook(range(32)):\n",
    "    uint_image = images[ii] * 255\n",
    "    uint_image = uint_image.astype(np.uint8)\n",
    "    filepath = os.path.join(dirpath, 'example{}.gif'.format(ii))\n",
    "    imageio.mimsave(filepath, uint_image, 'GIF', **kargs)"
   ]
  },
  {
   "cell_type": "code",
   "execution_count": null,
   "metadata": {},
   "outputs": [],
   "source": []
  },
  {
   "cell_type": "code",
   "execution_count": 5,
   "metadata": {},
   "outputs": [
    {
     "data": {
      "text/plain": [
       "'gifs/digits_velocity'"
      ]
     },
     "execution_count": 5,
     "metadata": {},
     "output_type": "execute_result"
    }
   ],
   "source": [
    "training_genetor = \\\n",
    "    BouncingMNISTDataGenerator(\n",
    "                    dataset_size=8000,\n",
    "                    seq_length=160,\n",
    "                    batch_size=32,\n",
    "                    ae=False,\n",
    "                    noise=False,\n",
    "#                     step_length=0.03,\n",
    "                    class_velocity=True,\n",
    "                    hide_digits=False)\n",
    "\n",
    "dirpath = '_gifs/digits_velocity'\n",
    "\n",
    "check_folder(dirpath)"
   ]
  },
  {
   "cell_type": "code",
   "execution_count": 6,
   "metadata": {},
   "outputs": [],
   "source": [
    "images, labels = training_genetor.get_batch()"
   ]
  },
  {
   "cell_type": "code",
   "execution_count": 7,
   "metadata": {},
   "outputs": [
    {
     "data": {
      "application/vnd.jupyter.widget-view+json": {
       "model_id": "b777a48f709b4e05940c4496b91397bb",
       "version_major": 2,
       "version_minor": 0
      },
      "text/plain": [
       "HBox(children=(IntProgress(value=0, max=32), HTML(value='')))"
      ]
     },
     "metadata": {},
     "output_type": "display_data"
    },
    {
     "name": "stdout",
     "output_type": "stream",
     "text": [
      "\n"
     ]
    }
   ],
   "source": [
    "# Save them as frames into a gif\n",
    "kargs = { 'duration': 0.1 }\n",
    "for ii in tqdm_notebook(range(32)):\n",
    "    uint_image = images[ii] * 255\n",
    "    uint_image = uint_image.astype(np.uint8)\n",
    "    filepath = os.path.join(dirpath, 'example{}.gif'.format(ii))\n",
    "    imageio.mimsave(filepath, uint_image, 'GIF', **kargs)"
   ]
  },
  {
   "cell_type": "code",
   "execution_count": null,
   "metadata": {},
   "outputs": [],
   "source": []
  },
  {
   "cell_type": "code",
   "execution_count": 8,
   "metadata": {},
   "outputs": [
    {
     "data": {
      "text/plain": [
       "'gifs/velocity_only'"
      ]
     },
     "execution_count": 8,
     "metadata": {},
     "output_type": "execute_result"
    }
   ],
   "source": [
    "training_genetor = \\\n",
    "    BouncingMNISTDataGenerator(\n",
    "                    dataset_size=8000,\n",
    "                    seq_length=160,\n",
    "                    batch_size=32,\n",
    "                    ae=False,\n",
    "                    noise=False,\n",
    "#                     step_length=0.03,\n",
    "                    class_velocity=True,\n",
    "                    hide_digits=True)\n",
    "\n",
    "dirpath = '_gifs/velocity_only'\n",
    "\n",
    "check_folder(dirpath)"
   ]
  },
  {
   "cell_type": "code",
   "execution_count": 9,
   "metadata": {},
   "outputs": [],
   "source": [
    "images, labels = training_genetor.get_batch()"
   ]
  },
  {
   "cell_type": "code",
   "execution_count": 10,
   "metadata": {},
   "outputs": [
    {
     "data": {
      "application/vnd.jupyter.widget-view+json": {
       "model_id": "30d02f579f0f484d9c919818dc3100b1",
       "version_major": 2,
       "version_minor": 0
      },
      "text/plain": [
       "HBox(children=(IntProgress(value=0, max=32), HTML(value='')))"
      ]
     },
     "metadata": {},
     "output_type": "display_data"
    },
    {
     "name": "stdout",
     "output_type": "stream",
     "text": [
      "\n"
     ]
    }
   ],
   "source": [
    "# Save them as frames into a gif\n",
    "kargs = { 'duration': 0.1 }\n",
    "for ii in tqdm_notebook(range(32)):\n",
    "    uint_image = images[ii] * 255\n",
    "    uint_image = uint_image.astype(np.uint8)\n",
    "    filepath = os.path.join(dirpath, 'example{}.gif'.format(ii))\n",
    "    imageio.mimsave(filepath, uint_image, 'GIF', **kargs)"
   ]
  },
  {
   "cell_type": "code",
   "execution_count": null,
   "metadata": {},
   "outputs": [],
   "source": []
  }
 ],
 "metadata": {
  "kernelspec": {
   "display_name": "tensorflow",
   "language": "python",
   "name": "tensorflow"
  },
  "language_info": {
   "codemirror_mode": {
    "name": "ipython",
    "version": 3
   },
   "file_extension": ".py",
   "mimetype": "text/x-python",
   "name": "python",
   "nbconvert_exporter": "python",
   "pygments_lexer": "ipython3",
   "version": "3.6.5"
  }
 },
 "nbformat": 4,
 "nbformat_minor": 2
}
